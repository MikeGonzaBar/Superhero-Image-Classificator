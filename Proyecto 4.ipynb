{
 "cells": [
  {
   "cell_type": "markdown",
   "id": "fd42df18",
   "metadata": {},
   "source": [
    "# Proyecto 4\n",
    "- #### Miguel González\n",
    "\n",
    "Para ver el video del proyecto haga clic [aquí.](https://iteso01-my.sharepoint.com/:v:/g/personal/is722298_iteso_mx/EbS-ziHBxoFDjoSzGA4AlyoBXOExck_TzGPe-AkQcc95aw?e=mFpjcU \"Link al video en Onedrive\")"
   ]
  },
  {
   "cell_type": "markdown",
   "id": "d7ffbc3f",
   "metadata": {},
   "source": [
    "## Clasificación de vengadores  \n",
    "Se buscará clasificar los vengadores a partir de un dataset que contiene las imágenes de cada uno de los integrantes en el equipo. En total el dataset contiene 9 personajes diferentes cada uno con mínimo 79 y un máximo de 177 imágenes por categoría. Dichas imagenes fueron procesadas con el algorítmo de deep learning de inception V3 desde Orange."
   ]
  },
  {
   "cell_type": "markdown",
   "id": "e712d1aa",
   "metadata": {},
   "source": [
    "### Importar librerías"
   ]
  },
  {
   "cell_type": "code",
   "execution_count": 1,
   "id": "ed87501d",
   "metadata": {},
   "outputs": [],
   "source": [
    "import matplotlib.pyplot as plt\n",
    "import seaborn as sns\n",
    "import pandas as pd\n",
    "import numpy as np\n",
    "from sklearn.ensemble import RandomForestClassifier\n",
    "from sklearn.model_selection import GridSearchCV\n",
    "from sklearn.neural_network import MLPClassifier\n",
    "from sklearn.svm import SVC\n",
    "from sklearn.model_selection import train_test_split\n",
    "from sklearn import metrics\n",
    "from sklearn.metrics import classification_report,confusion_matrix, accuracy_score\n",
    "from sklearn.model_selection import cross_val_score as cv"
   ]
  },
  {
   "cell_type": "markdown",
   "id": "b63474eb",
   "metadata": {},
   "source": [
    "### Lectura de datos\n",
    "\n",
    "El archivo csv contiene un total de 2048 features por cada imagen, además de esto, cada registro tiene la categoría a la que pertenece, esta siendo el personaje que se encuentra de la imágen. En total existen 1208 registros de personaje."
   ]
  },
  {
   "cell_type": "code",
   "execution_count": 2,
   "id": "062f5726",
   "metadata": {
    "scrolled": true
   },
   "outputs": [
    {
     "data": {
      "text/html": [
       "<div>\n",
       "<style scoped>\n",
       "    .dataframe tbody tr th:only-of-type {\n",
       "        vertical-align: middle;\n",
       "    }\n",
       "\n",
       "    .dataframe tbody tr th {\n",
       "        vertical-align: top;\n",
       "    }\n",
       "\n",
       "    .dataframe thead th {\n",
       "        text-align: right;\n",
       "    }\n",
       "</style>\n",
       "<table border=\"1\" class=\"dataframe\">\n",
       "  <thead>\n",
       "    <tr style=\"text-align: right;\">\n",
       "      <th></th>\n",
       "      <th>n0</th>\n",
       "      <th>n1</th>\n",
       "      <th>n2</th>\n",
       "      <th>n3</th>\n",
       "      <th>n4</th>\n",
       "      <th>n5</th>\n",
       "      <th>n6</th>\n",
       "      <th>n7</th>\n",
       "      <th>n8</th>\n",
       "      <th>n9</th>\n",
       "      <th>...</th>\n",
       "      <th>n2039</th>\n",
       "      <th>n2040</th>\n",
       "      <th>n2041</th>\n",
       "      <th>n2042</th>\n",
       "      <th>n2043</th>\n",
       "      <th>n2044</th>\n",
       "      <th>n2045</th>\n",
       "      <th>n2046</th>\n",
       "      <th>n2047</th>\n",
       "      <th>category</th>\n",
       "    </tr>\n",
       "  </thead>\n",
       "  <tbody>\n",
       "    <tr>\n",
       "      <th>0</th>\n",
       "      <td>0.395291</td>\n",
       "      <td>0.250624</td>\n",
       "      <td>0.099512</td>\n",
       "      <td>0.268821</td>\n",
       "      <td>0.091371</td>\n",
       "      <td>0.432410</td>\n",
       "      <td>0.327322</td>\n",
       "      <td>0.357707</td>\n",
       "      <td>0.319891</td>\n",
       "      <td>0.181302</td>\n",
       "      <td>...</td>\n",
       "      <td>0.429419</td>\n",
       "      <td>0.166420</td>\n",
       "      <td>0.456801</td>\n",
       "      <td>0.553125</td>\n",
       "      <td>0.702891</td>\n",
       "      <td>0.160196</td>\n",
       "      <td>0.345281</td>\n",
       "      <td>0.099554</td>\n",
       "      <td>0.030428</td>\n",
       "      <td>BlackWidow</td>\n",
       "    </tr>\n",
       "    <tr>\n",
       "      <th>1</th>\n",
       "      <td>0.161620</td>\n",
       "      <td>0.669297</td>\n",
       "      <td>0.161754</td>\n",
       "      <td>1.092749</td>\n",
       "      <td>0.314478</td>\n",
       "      <td>0.739942</td>\n",
       "      <td>0.289364</td>\n",
       "      <td>0.257756</td>\n",
       "      <td>0.456076</td>\n",
       "      <td>0.945528</td>\n",
       "      <td>...</td>\n",
       "      <td>0.125760</td>\n",
       "      <td>0.841949</td>\n",
       "      <td>0.751705</td>\n",
       "      <td>0.330969</td>\n",
       "      <td>0.945445</td>\n",
       "      <td>0.087484</td>\n",
       "      <td>0.420044</td>\n",
       "      <td>0.073521</td>\n",
       "      <td>0.496550</td>\n",
       "      <td>BlackWidow</td>\n",
       "    </tr>\n",
       "    <tr>\n",
       "      <th>2</th>\n",
       "      <td>0.613029</td>\n",
       "      <td>0.272452</td>\n",
       "      <td>0.228112</td>\n",
       "      <td>0.211418</td>\n",
       "      <td>0.018076</td>\n",
       "      <td>0.175503</td>\n",
       "      <td>0.173159</td>\n",
       "      <td>0.360020</td>\n",
       "      <td>0.467546</td>\n",
       "      <td>1.045792</td>\n",
       "      <td>...</td>\n",
       "      <td>0.954695</td>\n",
       "      <td>0.156586</td>\n",
       "      <td>0.405534</td>\n",
       "      <td>0.447233</td>\n",
       "      <td>0.147782</td>\n",
       "      <td>0.820623</td>\n",
       "      <td>0.269167</td>\n",
       "      <td>0.803643</td>\n",
       "      <td>0.295057</td>\n",
       "      <td>BlackWidow</td>\n",
       "    </tr>\n",
       "    <tr>\n",
       "      <th>3</th>\n",
       "      <td>0.435276</td>\n",
       "      <td>0.061578</td>\n",
       "      <td>0.049443</td>\n",
       "      <td>0.273972</td>\n",
       "      <td>0.198103</td>\n",
       "      <td>0.364443</td>\n",
       "      <td>0.403887</td>\n",
       "      <td>0.446709</td>\n",
       "      <td>0.077413</td>\n",
       "      <td>0.206818</td>\n",
       "      <td>...</td>\n",
       "      <td>0.122626</td>\n",
       "      <td>0.519245</td>\n",
       "      <td>0.480481</td>\n",
       "      <td>0.564943</td>\n",
       "      <td>0.131951</td>\n",
       "      <td>0.126217</td>\n",
       "      <td>0.178021</td>\n",
       "      <td>0.930107</td>\n",
       "      <td>0.740767</td>\n",
       "      <td>BlackWidow</td>\n",
       "    </tr>\n",
       "    <tr>\n",
       "      <th>4</th>\n",
       "      <td>0.780187</td>\n",
       "      <td>0.411210</td>\n",
       "      <td>1.116514</td>\n",
       "      <td>0.303062</td>\n",
       "      <td>0.018254</td>\n",
       "      <td>0.100198</td>\n",
       "      <td>0.461828</td>\n",
       "      <td>0.524668</td>\n",
       "      <td>0.273504</td>\n",
       "      <td>0.419966</td>\n",
       "      <td>...</td>\n",
       "      <td>0.550560</td>\n",
       "      <td>0.189530</td>\n",
       "      <td>0.149799</td>\n",
       "      <td>0.249432</td>\n",
       "      <td>0.587155</td>\n",
       "      <td>0.180132</td>\n",
       "      <td>0.311663</td>\n",
       "      <td>0.175716</td>\n",
       "      <td>0.067949</td>\n",
       "      <td>BlackWidow</td>\n",
       "    </tr>\n",
       "  </tbody>\n",
       "</table>\n",
       "<p>5 rows × 2049 columns</p>\n",
       "</div>"
      ],
      "text/plain": [
       "         n0        n1        n2        n3        n4        n5        n6  \\\n",
       "0  0.395291  0.250624  0.099512  0.268821  0.091371  0.432410  0.327322   \n",
       "1  0.161620  0.669297  0.161754  1.092749  0.314478  0.739942  0.289364   \n",
       "2  0.613029  0.272452  0.228112  0.211418  0.018076  0.175503  0.173159   \n",
       "3  0.435276  0.061578  0.049443  0.273972  0.198103  0.364443  0.403887   \n",
       "4  0.780187  0.411210  1.116514  0.303062  0.018254  0.100198  0.461828   \n",
       "\n",
       "         n7        n8        n9  ...     n2039     n2040     n2041     n2042  \\\n",
       "0  0.357707  0.319891  0.181302  ...  0.429419  0.166420  0.456801  0.553125   \n",
       "1  0.257756  0.456076  0.945528  ...  0.125760  0.841949  0.751705  0.330969   \n",
       "2  0.360020  0.467546  1.045792  ...  0.954695  0.156586  0.405534  0.447233   \n",
       "3  0.446709  0.077413  0.206818  ...  0.122626  0.519245  0.480481  0.564943   \n",
       "4  0.524668  0.273504  0.419966  ...  0.550560  0.189530  0.149799  0.249432   \n",
       "\n",
       "      n2043     n2044     n2045     n2046     n2047    category  \n",
       "0  0.702891  0.160196  0.345281  0.099554  0.030428  BlackWidow  \n",
       "1  0.945445  0.087484  0.420044  0.073521  0.496550  BlackWidow  \n",
       "2  0.147782  0.820623  0.269167  0.803643  0.295057  BlackWidow  \n",
       "3  0.131951  0.126217  0.178021  0.930107  0.740767  BlackWidow  \n",
       "4  0.587155  0.180132  0.311663  0.175716  0.067949  BlackWidow  \n",
       "\n",
       "[5 rows x 2049 columns]"
      ]
     },
     "execution_count": 2,
     "metadata": {},
     "output_type": "execute_result"
    }
   ],
   "source": [
    "imageData = pd.read_csv('C:\\\\Users\\\\gonza\\\\AprendizajeMaquina\\\\Proj-4\\\\combinedDataOGChar.csv')\n",
    "imageData.head()"
   ]
  },
  {
   "cell_type": "markdown",
   "id": "f383f93b",
   "metadata": {},
   "source": [
    "Podemos observar los diferentes personajes que hay dentro del dataset"
   ]
  },
  {
   "cell_type": "code",
   "execution_count": 3,
   "id": "b5c899f9",
   "metadata": {
    "scrolled": true
   },
   "outputs": [
    {
     "data": {
      "text/plain": [
       "['BlackWidow',\n",
       " 'CaptainAmerica',\n",
       " 'DrStrange',\n",
       " 'Hulk',\n",
       " 'Ironman',\n",
       " 'Loki',\n",
       " 'Spiderman',\n",
       " 'Thanos',\n",
       " 'Thor']"
      ]
     },
     "execution_count": 3,
     "metadata": {},
     "output_type": "execute_result"
    }
   ],
   "source": [
    "list(dict.fromkeys(imageData['category']))"
   ]
  },
  {
   "cell_type": "code",
   "execution_count": 4,
   "id": "4c8a4268",
   "metadata": {
    "scrolled": true
   },
   "outputs": [
    {
     "data": {
      "text/plain": [
       "(1208, 2049)"
      ]
     },
     "execution_count": 4,
     "metadata": {},
     "output_type": "execute_result"
    }
   ],
   "source": [
    "imageData.shape"
   ]
  },
  {
   "cell_type": "markdown",
   "id": "140f0eb1",
   "metadata": {},
   "source": [
    "#### Separación del dataset\n",
    "A partir de los datos generamos nuestras variables de entrenamiento y el target. Para la repartición entre datos de entrenamiento y validación habrá una relación de 70-30 por cada uno de los personajes; el 70% es sobre el total de imágenes que existen en cada una de las categorías."
   ]
  },
  {
   "cell_type": "code",
   "execution_count": 5,
   "id": "86117071",
   "metadata": {},
   "outputs": [
    {
     "data": {
      "text/plain": [
       "(845, 2048)"
      ]
     },
     "execution_count": 5,
     "metadata": {},
     "output_type": "execute_result"
    }
   ],
   "source": [
    "img_X, img_Y = imageData.drop(['category'], axis=1), imageData['category']\n",
    "img_X_train, img_X_test, img_Y_train, img_Y_test = train_test_split(img_X, img_Y, test_size=0.3, random_state = 1, stratify=img_Y)\n",
    "img_X_train.shape"
   ]
  },
  {
   "cell_type": "markdown",
   "id": "31754444",
   "metadata": {},
   "source": [
    "### Modelos\n",
    "\n",
    "Para el proyecto se utilizarán los modelos de:\n",
    "- Random Forest\n",
    "- SVM\n",
    "- Neural Network\n",
    "\n",
    "Cada uno de los modelos tendrá 2 variaciones para así obtener diferentes resultados utilizando el mismo modelo y poder observar los efectos que el parámetro en cuestión puede llegar a tener."
   ]
  },
  {
   "cell_type": "markdown",
   "id": "49764988",
   "metadata": {},
   "source": [
    "#### GridSearch\n",
    "Apartir de modificaciones dentro de sus parámetros se buscarán los modelos que tengan los mejores resultados"
   ]
  },
  {
   "cell_type": "code",
   "execution_count": null,
   "id": "3cfd5f99",
   "metadata": {
    "scrolled": true
   },
   "outputs": [],
   "source": [
    "parameters = {'n_estimators':[150, 300, 500, 700, 900, 1000, 1250, 10000], 'criterion':('gini', 'entropy'), \n",
    "              'max_features':('auto', 'sqrt', 'log2')}\n",
    "forest = RandomForestClassifier()\n",
    "clfForest = GridSearchCV(forest, parameters)\n",
    "clfForest.fit(img_X_train, img_Y_train)"
   ]
  },
  {
   "cell_type": "code",
   "execution_count": null,
   "id": "beabd2d0",
   "metadata": {
    "scrolled": true
   },
   "outputs": [],
   "source": [
    "pd.concat([pd.DataFrame(clfForest.cv_results_[\"params\"]), pd.DataFrame(clfForest.cv_results_[\"rank_test_score\"]),\n",
    "           pd.DataFrame(clfForest.cv_results_[\"mean_test_score\"], columns=[\"Accuracy\"])],axis=1).sort_values(0)"
   ]
  },
  {
   "cell_type": "code",
   "execution_count": null,
   "id": "390ed057",
   "metadata": {},
   "outputs": [],
   "source": [
    "parameters = {'C':[0.1,1,10,100],'gamma':[0.0001,0.001,0.1,1, 'scale', 'auto'],\n",
    "              'kernel':['linear', 'poly', 'rbf', 'sigmoid'], 'shrinking':[True, False], \n",
    "              'probability':[True,False], 'decision_function_shape':['ovo', 'ovr']}\n",
    "svc = SVC()\n",
    "clf = GridSearchCV(svc, parameters)\n",
    "clf.fit(img_X_train, img_Y_train)"
   ]
  },
  {
   "cell_type": "code",
   "execution_count": null,
   "id": "b537b58e",
   "metadata": {},
   "outputs": [],
   "source": [
    "pd.concat([pd.DataFrame(clf.cv_results_[\"params\"]),\n",
    "           pd.DataFrame(clf.cv_results_[\"rank_test_score\"]), pd.DataFrame(clf.cv_results_[\"mean_test_score\"], \n",
    "           columns=[\"Accuracy\"])],axis=1).sort_values(0)"
   ]
  },
  {
   "cell_type": "code",
   "execution_count": null,
   "id": "560631f6",
   "metadata": {},
   "outputs": [],
   "source": [
    "parameters = {'max_iter':[150,700,500,300,1000],'hidden_layer_sizes':[100,50,200,500],'solver':['lbfgs','sgd','adam'], \n",
    "             'activation':['identity', 'logistic', 'tanh', 'relu'], 'learning_rate':['constant', 'invscaling', 'adaptive']}\n",
    "mlp = MLPClassifier()\n",
    "clfMlp = GridSearchCV(mlp, parameters)\n",
    "clfMlp.fit(img_X_train, img_Y_train)"
   ]
  },
  {
   "cell_type": "code",
   "execution_count": null,
   "id": "db04c38a",
   "metadata": {
    "scrolled": true
   },
   "outputs": [],
   "source": [
    "pd.concat([pd.DataFrame(clfMlp.cv_results_[\"params\"]),pd.DataFrame(clfMlp.cv_results_[\"rank_test_score\"]),pd.DataFrame(clfMlp.cv_results_[\"mean_test_score\"], columns=[\"Accuracy\"])],axis=1).sort_values(0)"
   ]
  },
  {
   "cell_type": "markdown",
   "id": "991fd623",
   "metadata": {},
   "source": [
    "#### Creación de los modelos\n",
    "\n",
    "Serán creados los modelos a partir de los resultados del grid search, utilizando los parámetros que obtuvieron mejor puntaje"
   ]
  },
  {
   "cell_type": "code",
   "execution_count": 6,
   "id": "d69d3556",
   "metadata": {
    "scrolled": true
   },
   "outputs": [],
   "source": [
    "img_forest_v1 = RandomForestClassifier(criterion='entropy', max_features='sqrt', n_estimators=900)"
   ]
  },
  {
   "cell_type": "code",
   "execution_count": 7,
   "id": "f3131ab3",
   "metadata": {},
   "outputs": [],
   "source": [
    "img_forest_v2 = RandomForestClassifier(criterion='gini', max_features='sqrt', n_estimators=700)"
   ]
  },
  {
   "cell_type": "code",
   "execution_count": 8,
   "id": "c5d965d1",
   "metadata": {},
   "outputs": [],
   "source": [
    "img_svc_v1 = SVC(kernel=\"rbf\", C=100, gamma='scale', decision_function_shape='ovo',probability=True, shrinking=False)"
   ]
  },
  {
   "cell_type": "code",
   "execution_count": 9,
   "id": "7f8e31cd",
   "metadata": {},
   "outputs": [],
   "source": [
    "img_svc_v2 = SVC(kernel=\"rbf\", C=100, gamma='scale', decision_function_shape='ovr',probability=False, shrinking=True)"
   ]
  },
  {
   "cell_type": "code",
   "execution_count": 10,
   "id": "0de1d865",
   "metadata": {},
   "outputs": [],
   "source": [
    "img_mlp_v1 = MLPClassifier(hidden_layer_sizes=100, max_iter=700, solver='adam', activation='logistic', learning_rate = 'constant')"
   ]
  },
  {
   "cell_type": "code",
   "execution_count": 11,
   "id": "8f0d881d",
   "metadata": {},
   "outputs": [],
   "source": [
    "img_mlp_v2 = MLPClassifier(hidden_layer_sizes=50, max_iter=1000, solver='adam')"
   ]
  },
  {
   "cell_type": "markdown",
   "id": "1e169254",
   "metadata": {},
   "source": [
    "#### Entrenamiento\n",
    "Le hes alimentado los datos y los targets de entrenamiento a cada uno de los modelos"
   ]
  },
  {
   "cell_type": "code",
   "execution_count": 12,
   "id": "704a6685",
   "metadata": {},
   "outputs": [
    {
     "data": {
      "text/plain": [
       "RandomForestClassifier(criterion='entropy', max_features='sqrt',\n",
       "                       n_estimators=900)"
      ]
     },
     "execution_count": 12,
     "metadata": {},
     "output_type": "execute_result"
    }
   ],
   "source": [
    "img_forest_v1.fit(img_X_train, img_Y_train)"
   ]
  },
  {
   "cell_type": "code",
   "execution_count": 13,
   "id": "2e948caf",
   "metadata": {},
   "outputs": [
    {
     "data": {
      "text/plain": [
       "RandomForestClassifier(max_features='sqrt', n_estimators=700)"
      ]
     },
     "execution_count": 13,
     "metadata": {},
     "output_type": "execute_result"
    }
   ],
   "source": [
    "img_forest_v2.fit(img_X_train, img_Y_train)"
   ]
  },
  {
   "cell_type": "code",
   "execution_count": 14,
   "id": "f87ed510",
   "metadata": {},
   "outputs": [
    {
     "data": {
      "text/plain": [
       "SVC(C=100, decision_function_shape='ovo', probability=True, shrinking=False)"
      ]
     },
     "execution_count": 14,
     "metadata": {},
     "output_type": "execute_result"
    }
   ],
   "source": [
    "img_svc_v1.fit(img_X_train, img_Y_train)"
   ]
  },
  {
   "cell_type": "code",
   "execution_count": 15,
   "id": "d7b2b833",
   "metadata": {},
   "outputs": [
    {
     "data": {
      "text/plain": [
       "SVC(C=100)"
      ]
     },
     "execution_count": 15,
     "metadata": {},
     "output_type": "execute_result"
    }
   ],
   "source": [
    "img_svc_v2.fit(img_X_train, img_Y_train)"
   ]
  },
  {
   "cell_type": "code",
   "execution_count": 16,
   "id": "e5b846b4",
   "metadata": {},
   "outputs": [
    {
     "data": {
      "text/plain": [
       "MLPClassifier(activation='logistic', hidden_layer_sizes=100, max_iter=700)"
      ]
     },
     "execution_count": 16,
     "metadata": {},
     "output_type": "execute_result"
    }
   ],
   "source": [
    "img_mlp_v1.fit(img_X_train, img_Y_train)"
   ]
  },
  {
   "cell_type": "code",
   "execution_count": 17,
   "id": "29057e0e",
   "metadata": {},
   "outputs": [
    {
     "data": {
      "text/plain": [
       "MLPClassifier(hidden_layer_sizes=50, max_iter=1000)"
      ]
     },
     "execution_count": 17,
     "metadata": {},
     "output_type": "execute_result"
    }
   ],
   "source": [
    "img_mlp_v2.fit(img_X_train, img_Y_train)"
   ]
  },
  {
   "cell_type": "markdown",
   "id": "7d842db6",
   "metadata": {},
   "source": [
    "#### Validación\n",
    "\n",
    "En este apartado generamos las predicciones de cada uno de los modelos con los los datos de validación"
   ]
  },
  {
   "cell_type": "code",
   "execution_count": 18,
   "id": "aecc6c78",
   "metadata": {},
   "outputs": [],
   "source": [
    "Y_pred_forest_v1 = img_forest_v1.predict(img_X_test)\n",
    "Y_pred_forest_v2 = img_forest_v2.predict(img_X_test)\n",
    "\n",
    "Y_pred_mlp_v1 = img_mlp_v1.predict(img_X_test)\n",
    "Y_pred_mlp_v2 = img_mlp_v2.predict(img_X_test)\n",
    "\n",
    "Y_pred_svc_v1 = img_svc_v1.predict(img_X_test)\n",
    "Y_pred_svc_v2 =  img_svc_v2.predict(img_X_test)"
   ]
  },
  {
   "cell_type": "markdown",
   "id": "7653f527",
   "metadata": {},
   "source": [
    "### Resultados\n",
    "\n",
    "Observamos los resultados de las predicciones de los modelos y comparamos con los verdaderos resultados\n",
    "\n",
    "|Modelo|Score|Cross Validation|\n",
    "|:---|:---|:---|\n",
    "|Random forest v1|78.78%|74.42%\n",
    "|Random forest v2|78.24%|74.91%\n",
    "|Neural Network v1|90.36%|87.99%\n",
    "|Neural Network v2|90.08%|86.34%\n",
    "|SVM v1|90.08%|85.76%\n",
    "|SVM v2|90.08%|85.76%"
   ]
  },
  {
   "cell_type": "code",
   "execution_count": 19,
   "id": "b751eec3",
   "metadata": {},
   "outputs": [
    {
     "name": "stdout",
     "output_type": "stream",
     "text": [
      "Random forest v1 score:\t 0.7878787878787878\n",
      "Random forest v2 score:\t 0.7823691460055097\n",
      "Neural network v1 score: 0.9035812672176309\n",
      "Neural network v2 score: 0.9008264462809917\n",
      "SVC v1 score:\t\t 0.9008264462809917\n",
      "SVC v2 score:\t\t 0.9008264462809917\n"
     ]
    }
   ],
   "source": [
    "print(\"Random forest v1 score:\\t\" , accuracy_score(img_Y_test, Y_pred_forest_v1))\n",
    "print(\"Random forest v2 score:\\t\" , accuracy_score(img_Y_test, Y_pred_forest_v2))\n",
    "print(\"Neural network v1 score:\" , accuracy_score(img_Y_test, Y_pred_mlp_v1))\n",
    "print(\"Neural network v2 score:\" , accuracy_score(img_Y_test, Y_pred_mlp_v2))\n",
    "print(\"SVC v1 score:\\t\\t\" , accuracy_score(img_Y_test, Y_pred_svc_v1))\n",
    "print(\"SVC v2 score:\\t\\t\" , accuracy_score(img_Y_test, Y_pred_svc_v2))"
   ]
  },
  {
   "cell_type": "markdown",
   "id": "d7370308",
   "metadata": {},
   "source": [
    "#### Random Forest"
   ]
  },
  {
   "cell_type": "code",
   "execution_count": 20,
   "id": "a751abee",
   "metadata": {},
   "outputs": [
    {
     "name": "stdout",
     "output_type": "stream",
     "text": [
      "Random Forest model 1\n",
      "Cross Validation:\n",
      " [0.74193548 0.77915633 0.71144279]\n",
      "[[51  0  2  0  0  0  0  0  0]\n",
      " [ 1 34  1  0  1  0  5  0  0]\n",
      " [ 0  2 37  1  0  0  3  0  0]\n",
      " [ 0  1  0 36  0  0  3  0  0]\n",
      " [ 0  2  1  0 38  0  3  1  0]\n",
      " [ 7  1  4  0  1 22  2  0  0]\n",
      " [ 3  0  0  1  1  1 46  0  0]\n",
      " [ 0  3  1  3  5  2  2  8  0]\n",
      " [ 3  4  1  0  2  2  1  0 14]]\n",
      "\n",
      "\n"
     ]
    }
   ],
   "source": [
    "cm_forest_v1 = metrics.confusion_matrix(img_Y_test, Y_pred_forest_v1)\n",
    "print('Random Forest model 1')\n",
    "print('Cross Validation:\\n',cv(img_forest_v1, img_X, img_Y, cv=3, scoring='accuracy'))\n",
    "print(cm_forest_v1)\n",
    "print('\\n')"
   ]
  },
  {
   "cell_type": "code",
   "execution_count": 21,
   "id": "cc1cede7",
   "metadata": {},
   "outputs": [
    {
     "name": "stdout",
     "output_type": "stream",
     "text": [
      "Random Forest model 2\n",
      "Cross Validation:\n",
      " [0.74937965 0.78411911 0.71393035]\n",
      "[[51  0  0  0  0  1  1  0  0]\n",
      " [ 1 32  2  0  2  1  4  0  0]\n",
      " [ 1  2 36  1  0  0  3  0  0]\n",
      " [ 0  2  0 36  1  0  1  0  0]\n",
      " [ 0  2  1  0 39  0  2  1  0]\n",
      " [ 7  0  5  1  0 23  1  0  0]\n",
      " [ 2  0  0  0  2  1 47  0  0]\n",
      " [ 0  3  2  2  5  2  2  8  0]\n",
      " [ 3  4  1  0  3  2  2  0 12]]\n",
      "\n",
      "\n"
     ]
    }
   ],
   "source": [
    "cm_forest_v2 = metrics.confusion_matrix(img_Y_test, Y_pred_forest_v2)\n",
    "print('Random Forest model 2')\n",
    "print('Cross Validation:\\n',cv(img_forest_v2, img_X, img_Y, cv=3, scoring='accuracy'))\n",
    "print(cm_forest_v2)\n",
    "print('\\n')"
   ]
  },
  {
   "cell_type": "markdown",
   "id": "aa599709",
   "metadata": {},
   "source": [
    "#### SVM"
   ]
  },
  {
   "cell_type": "code",
   "execution_count": 22,
   "id": "4095fffe",
   "metadata": {},
   "outputs": [
    {
     "name": "stdout",
     "output_type": "stream",
     "text": [
      "SVM model 1\n",
      "Cross Validation:\n",
      " [0.87096774 0.87593052 0.82587065]\n",
      "[[49  0  2  0  0  1  1  0  0]\n",
      " [ 0 40  0  0  0  1  0  0  1]\n",
      " [ 0  2 40  0  0  0  1  0  0]\n",
      " [ 1  0  0 39  0  0  0  0  0]\n",
      " [ 0  2  1  0 40  0  1  1  0]\n",
      " [ 1  1  2  0  0 32  1  0  0]\n",
      " [ 1  1  0  1  2  2 45  0  0]\n",
      " [ 0  1  1  0  0  3  0 19  0]\n",
      " [ 0  1  1  0  1  1  0  0 23]]\n",
      "\n",
      "\n"
     ]
    }
   ],
   "source": [
    "cm_svc_v1 = metrics.confusion_matrix(img_Y_test, Y_pred_svc_v1)\n",
    "print('SVM model 1')\n",
    "print('Cross Validation:\\n',cv(img_svc_v1, img_X, img_Y, cv=3, scoring='accuracy'))\n",
    "print(cm_svc_v1)\n",
    "print('\\n')"
   ]
  },
  {
   "cell_type": "code",
   "execution_count": 23,
   "id": "6b596c12",
   "metadata": {},
   "outputs": [
    {
     "name": "stdout",
     "output_type": "stream",
     "text": [
      "SVM model 2\n",
      "Cross Validation:\n",
      " [0.87096774 0.87593052 0.82587065]\n",
      "[[49  0  2  0  0  1  1  0  0]\n",
      " [ 0 40  0  0  0  1  0  0  1]\n",
      " [ 0  2 40  0  0  0  1  0  0]\n",
      " [ 1  0  0 39  0  0  0  0  0]\n",
      " [ 0  2  1  0 40  0  1  1  0]\n",
      " [ 1  1  2  0  0 32  1  0  0]\n",
      " [ 1  1  0  1  2  2 45  0  0]\n",
      " [ 0  1  1  0  0  3  0 19  0]\n",
      " [ 0  1  1  0  1  1  0  0 23]]\n",
      "\n",
      "\n"
     ]
    }
   ],
   "source": [
    "cm_svc_v2 = metrics.confusion_matrix(img_Y_test, Y_pred_svc_v2)\n",
    "print('SVM model 2')\n",
    "print('Cross Validation:\\n',cv(img_svc_v2, img_X, img_Y, cv=3, scoring='accuracy'))\n",
    "print(cm_svc_v2)\n",
    "print('\\n')"
   ]
  },
  {
   "cell_type": "markdown",
   "id": "619c72f1",
   "metadata": {},
   "source": [
    "#### Neural Network"
   ]
  },
  {
   "cell_type": "code",
   "execution_count": 24,
   "id": "e2e21673",
   "metadata": {},
   "outputs": [
    {
     "name": "stdout",
     "output_type": "stream",
     "text": [
      "Neural Network model 1\n",
      "Cross Validation:\n",
      " [0.88585608 0.90074442 0.85323383]\n",
      "[[49  0  1  0  0  1  1  0  1]\n",
      " [ 0 40  0  0  0  1  0  0  1]\n",
      " [ 3  1 37  0  0  1  1  0  0]\n",
      " [ 1  0  0 39  0  0  0  0  0]\n",
      " [ 0  1  1  0 39  0  0  4  0]\n",
      " [ 3  1  0  0  0 33  0  0  0]\n",
      " [ 2  1  1  1  2  0 45  0  0]\n",
      " [ 0  1  0  0  0  2  0 21  0]\n",
      " [ 0  1  0  0  0  1  0  0 25]]\n",
      "\n",
      "\n"
     ]
    }
   ],
   "source": [
    "cm_mlp_v1 = metrics.confusion_matrix(img_Y_test, Y_pred_mlp_v1)\n",
    "print('Neural Network model 1')\n",
    "print('Cross Validation:\\n',cv(img_mlp_v1, img_X, img_Y, cv=3, scoring='accuracy'))\n",
    "print(cm_mlp_v1)\n",
    "print('\\n')"
   ]
  },
  {
   "cell_type": "code",
   "execution_count": 25,
   "id": "5a9f6713",
   "metadata": {
    "scrolled": true
   },
   "outputs": [
    {
     "name": "stdout",
     "output_type": "stream",
     "text": [
      "Neural Network model 2\n",
      "Cross Validation:\n",
      " [0.87593052 0.89081886 0.82338308]\n",
      "[[50  0  0  0  0  1  1  0  1]\n",
      " [ 1 39  0  0  0  1  0  0  1]\n",
      " [ 2  1 37  0  0  1  1  0  1]\n",
      " [ 0  0  0 39  0  1  0  0  0]\n",
      " [ 0  1  0  1 38  0  1  4  0]\n",
      " [ 2  0  1  0  0 34  0  0  0]\n",
      " [ 1  0  1  1  3  0 46  0  0]\n",
      " [ 0  2  0  0  0  2  0 19  1]\n",
      " [ 0  1  1  0  0  0  0  0 25]]\n",
      "\n",
      "\n"
     ]
    }
   ],
   "source": [
    "cm_mlp_v2 = metrics.confusion_matrix(img_Y_test, Y_pred_mlp_v2)\n",
    "print('Neural Network model 2')\n",
    "print('Cross Validation:\\n',cv(img_mlp_v2, img_X, img_Y, cv=3, scoring='accuracy'))\n",
    "print(cm_mlp_v2)\n",
    "print('\\n')"
   ]
  },
  {
   "cell_type": "markdown",
   "id": "fe1c75e8",
   "metadata": {},
   "source": [
    "### Conclusiones\n",
    "\n",
    "A partir de los resultados que podemos observar con el score y el cross validation, podemos llegar a la conclusión de que los modelos generados son bastante confiables pues su índice de aciertos es bastante alto, lo suficiente como para basar la categorización de personajes marvel. Los modelos de random forest obtuvieron resultados son los mas bajos del grupo pero aún así siguen siendo buenos modelos para poder tomar en cuenta dentro de la categorización de los personajes.\n",
    "\n",
    "Para poder obtener modelos que tengan resultados realmente buenos es necesario hacer varias pruebas o utilziar la herramienta del grid search, pues los modelos que se crean con los parametros predeterminados no siempre son los mejores, y en algunos casos podrían llegar a se aquellos con los peores resultados."
   ]
  }
 ],
 "metadata": {
  "kernelspec": {
   "display_name": "Python 3",
   "language": "python",
   "name": "python3"
  },
  "language_info": {
   "codemirror_mode": {
    "name": "ipython",
    "version": 3
   },
   "file_extension": ".py",
   "mimetype": "text/x-python",
   "name": "python",
   "nbconvert_exporter": "python",
   "pygments_lexer": "ipython3",
   "version": "3.8.8"
  }
 },
 "nbformat": 4,
 "nbformat_minor": 5
}
